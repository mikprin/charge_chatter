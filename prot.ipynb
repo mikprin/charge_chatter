{
 "cells": [
  {
   "cell_type": "code",
   "execution_count": 5,
   "metadata": {},
   "outputs": [
    {
     "name": "stdout",
     "output_type": "stream",
     "text": [
      "29.30871212121212% | Plugged In\n"
     ]
    }
   ],
   "source": [
    "import psutil\n",
    "battery = psutil.sensors_battery()\n",
    "plugged = battery.power_plugged\n",
    "percent = str(battery.percent)\n",
    "plugged = \"Plugged In\" if plugged else \"Not Plugged In\"\n",
    "print(percent+'% | '+plugged)"
   ]
  },
  {
   "cell_type": "code",
   "execution_count": 34,
   "metadata": {},
   "outputs": [],
   "source": [
    "import psutil"
   ]
  },
  {
   "cell_type": "code",
   "execution_count": 27,
   "metadata": {},
   "outputs": [
    {
     "name": "stdout",
     "output_type": "stream",
     "text": [
      "81.60511363636364\n"
     ]
    }
   ],
   "source": [
    "    battery = psutil.sensors_battery().percent\n",
    "print(battery)"
   ]
  },
  {
   "cell_type": "code",
   "execution_count": 17,
   "metadata": {},
   "outputs": [
    {
     "ename": "AttributeError",
     "evalue": "'float' object has no attribute 'percent'",
     "output_type": "error",
     "traceback": [
      "\u001b[0;31m---------------------------------------------------------------------------\u001b[0m",
      "\u001b[0;31mAttributeError\u001b[0m                            Traceback (most recent call last)",
      "\u001b[0;32m<ipython-input-17-6569580a3c5c>\u001b[0m in \u001b[0;36m<module>\u001b[0;34m\u001b[0m\n\u001b[0;32m----> 1\u001b[0;31m \u001b[0mtype\u001b[0m\u001b[0;34m(\u001b[0m\u001b[0mbattery\u001b[0m\u001b[0;34m.\u001b[0m\u001b[0mpercent\u001b[0m\u001b[0;34m)\u001b[0m\u001b[0;34m\u001b[0m\u001b[0;34m\u001b[0m\u001b[0m\n\u001b[0m",
      "\u001b[0;31mAttributeError\u001b[0m: 'float' object has no attribute 'percent'"
     ]
    }
   ],
   "source": [
    "type(battery.percent)"
   ]
  },
  {
   "cell_type": "code",
   "execution_count": 37,
   "metadata": {},
   "outputs": [
    {
     "data": {
      "text/plain": [
       "bool"
      ]
     },
     "execution_count": 37,
     "metadata": {},
     "output_type": "execute_result"
    }
   ],
   "source": [
    "plugged = battery.power_plugged\n",
    "type(plugged)"
   ]
  },
  {
   "cell_type": "code",
   "execution_count": 33,
   "metadata": {},
   "outputs": [
    {
     "name": "stdout",
     "output_type": "stream",
     "text": [
      "Battery < 50\n"
     ]
    }
   ],
   "source": [
    "if battery.percent < 50 :\n",
    "    print(\"Battery < 50\")"
   ]
  },
  {
   "cell_type": "code",
   "execution_count": 7,
   "metadata": {},
   "outputs": [],
   "source": [
    "import pyttsx3\n",
    "engine = pyttsx3.init()\n",
    "engine.say(\"New instructions received! Kill all| humans!\")\n",
    "engine.runAndWait()"
   ]
  },
  {
   "cell_type": "code",
   "execution_count": null,
   "metadata": {},
   "outputs": [],
   "source": [
    "import time\n",
    "\n",
    "time.random()"
   ]
  },
  {
   "cell_type": "code",
   "execution_count": 8,
   "metadata": {},
   "outputs": [],
   "source": [
    "import pyttsx3\n",
    "engine = pyttsx3.init()\n",
    "voices = engine.getProperty('voices')\n",
    "engine.setProperty('voice', voices[0].id)\n",
    "engine.say(\"Hello World I'm a feemale voice\")\n",
    "engine.runAndWait()"
   ]
  },
  {
   "cell_type": "code",
   "execution_count": 6,
   "metadata": {},
   "outputs": [
    {
     "data": {
      "text/plain": [
       "0"
      ]
     },
     "execution_count": 6,
     "metadata": {},
     "output_type": "execute_result"
    }
   ],
   "source": [
    "from gtts import gTTS\n",
    "import os\n",
    "#tts = gTTS(text=\"Hello World. I'm a feemale voice. Speaking to you kojanije ubludki!\", lang='en')\n",
    "#tts = gTTS(text='Так же говорю по русски', lang='ru')\n",
    "tts = gTTS(text=f\"Charge level at {int(battery.percent) } percent\", lang='en')\n",
    "tts.save(\"good.mp3\")\n",
    "os.system(\"mpg123 good.mp3\")\n",
    "os.system(\"rm good.mp3\")"
   ]
  },
  {
   "cell_type": "code",
   "execution_count": 3,
   "metadata": {},
   "outputs": [
    {
     "data": {
      "text/plain": [
       "0"
      ]
     },
     "execution_count": 3,
     "metadata": {},
     "output_type": "execute_result"
    }
   ],
   "source": [
    "tts = gTTS(text=\"\"\"Ублюдок, мать твою, а ну иди сюда, говно собачье, тут решил ко мне лезть ты, засранец вонючий, мать твою!! А, ну иди сюда, попробуй меня трахнуть! Я тебя сам трахну, ублюдок, онанист чёртов, будь ты проклят!!! Иди, идиот, трахать тебя, и всю твою семью, говно собачье, жлоб вонючий, дерьмо, сука, падла!! Иди сюда, мерзавец, негодяй, гад! Иди сюда ты, говно, жопа\"\"\", lang='ru')\n",
    "#tts = gTTS(text='Так же говорю по русски', lang='ru')\n",
    "tts.save(\"good.mp3\")\n",
    "os.system(\"mpg123 good.mp3\")\n",
    "os.system(\"rm good.mp3\")    "
   ]
  },
  {
   "cell_type": "code",
   "execution_count": 19,
   "metadata": {},
   "outputs": [
    {
     "ename": "ModuleNotFoundError",
     "evalue": "No module named 'urllib2'",
     "output_type": "error",
     "traceback": [
      "\u001b[0;31m---------------------------------------------------------------------------\u001b[0m",
      "\u001b[0;31mModuleNotFoundError\u001b[0m                       Traceback (most recent call last)",
      "\u001b[0;32m<ipython-input-19-1b7ba8972dac>\u001b[0m in \u001b[0;36m<module>\u001b[0;34m\u001b[0m\n\u001b[0;32m----> 1\u001b[0;31m \u001b[0;32mimport\u001b[0m \u001b[0murllib2\u001b[0m\u001b[0;34m\u001b[0m\u001b[0;34m\u001b[0m\u001b[0m\n\u001b[0m\u001b[1;32m      2\u001b[0m \u001b[0;32mdef\u001b[0m \u001b[0minternet_on\u001b[0m\u001b[0;34m(\u001b[0m\u001b[0;34m)\u001b[0m\u001b[0;34m:\u001b[0m\u001b[0;34m\u001b[0m\u001b[0;34m\u001b[0m\u001b[0m\n\u001b[1;32m      3\u001b[0m     \u001b[0;32mtry\u001b[0m\u001b[0;34m:\u001b[0m\u001b[0;34m\u001b[0m\u001b[0;34m\u001b[0m\u001b[0m\n\u001b[1;32m      4\u001b[0m         \u001b[0murllib2\u001b[0m\u001b[0;34m.\u001b[0m\u001b[0murlopen\u001b[0m\u001b[0;34m(\u001b[0m\u001b[0;34m'http://216.58.192.142'\u001b[0m\u001b[0;34m,\u001b[0m \u001b[0mtimeout\u001b[0m\u001b[0;34m=\u001b[0m\u001b[0;36m1\u001b[0m\u001b[0;34m)\u001b[0m\u001b[0;34m\u001b[0m\u001b[0;34m\u001b[0m\u001b[0m\n\u001b[1;32m      5\u001b[0m         \u001b[0;32mreturn\u001b[0m \u001b[0;32mTrue\u001b[0m\u001b[0;34m\u001b[0m\u001b[0;34m\u001b[0m\u001b[0m\n",
      "\u001b[0;31mModuleNotFoundError\u001b[0m: No module named 'urllib2'"
     ]
    }
   ],
   "source": [
    "import urllib2\n",
    "def internet_on():\n",
    "    try:\n",
    "        urllib2.urlopen('http://216.58.192.142', timeout=1)\n",
    "        return True\n",
    "    except urllib2.URLError as err:\n",
    "        return False"
   ]
  },
  {
   "cell_type": "code",
   "execution_count": 20,
   "metadata": {},
   "outputs": [],
   "source": [
    "import socket\n",
    "REMOTE_SERVER = \"one.one.one.one\"\n",
    "def is_connected(hostname):\n",
    "    try:\n",
    "        # see if we can resolve the host name -- tells us if there is\n",
    "        # a DNS listening\n",
    "        host = socket.gethostbyname(hostname)\n",
    "        # connect to the host -- tells us if the host is actually\n",
    "        # reachable\n",
    "        s = socket.create_connection((host, 80), 2)\n",
    "        s.close()\n",
    "        return True\n",
    "    except:\n",
    "        pass\n",
    "    return False"
   ]
  },
  {
   "cell_type": "code",
   "execution_count": 23,
   "metadata": {},
   "outputs": [],
   "source": [
    "import socket\n",
    "\n",
    "\n",
    "def is_connected():\n",
    "    try:\n",
    "        # connect to the host -- tells us if the host is actually\n",
    "        # reachable\n",
    "        socket.create_connection((\"1.1.1.1\", 53))\n",
    "        return True\n",
    "    except OSError:\n",
    "        pass\n",
    "    return False\n"
   ]
  },
  {
   "cell_type": "code",
   "execution_count": 37,
   "metadata": {},
   "outputs": [
    {
     "data": {
      "text/plain": [
       "False"
      ]
     },
     "execution_count": 37,
     "metadata": {},
     "output_type": "execute_result"
    }
   ],
   "source": [
    "(lambda x: x > 12)(psutil.cpu_count())"
   ]
  },
  {
   "cell_type": "code",
   "execution_count": 84,
   "metadata": {},
   "outputs": [],
   "source": [
    "class Action():\n",
    "    \"\"\"Class for templating actions.\n",
    "    'Swich' type just swich back and forth.\n",
    "    'less' type triggers when less then once\"\"\"\n",
    "    def __init__(self, func , args0 , type = \"swich\" ):\n",
    "        self.func = func\n",
    "        self.type = type\n",
    "        self.base_flag = self.func(args0)\n",
    "\n",
    "    def check(self,args):\n",
    "        if self.type == \"swich\":\n",
    "            if self.func(args) != self.base_flag:\n",
    "                self.base_flag = self.func(args)\n",
    "                return True\n",
    "            else:\n",
    "                return False\n",
    "        if self.type ==\"less\":\n",
    "            if self.func(args) == True:\n",
    "                if self.base_flag == False:\n",
    "                    self.base_flag = True\n",
    "                    return True\n",
    "                else: return False\n",
    "            else:\n",
    "                self.base_flag = False\n",
    "                return False"
   ]
  },
  {
   "cell_type": "code",
   "execution_count": 85,
   "metadata": {},
   "outputs": [],
   "source": [
    "test = Action( (lambda x: x < 12),12 ,  type = \"less\")"
   ]
  },
  {
   "cell_type": "code",
   "execution_count": 92,
   "metadata": {},
   "outputs": [
    {
     "data": {
      "text/plain": [
       "False"
      ]
     },
     "execution_count": 92,
     "metadata": {},
     "output_type": "execute_result"
    }
   ],
   "source": [
    "test.check(11)"
   ]
  },
  {
   "cell_type": "code",
   "execution_count": 94,
   "metadata": {},
   "outputs": [],
   "source": [
    "import random"
   ]
  },
  {
   "cell_type": "code",
   "execution_count": 93,
   "metadata": {},
   "outputs": [],
   "source": [
    "phrases = {\n",
    "    'Plug_on':[\"Yeah! Yeah! More! Thank you for charging baby.\",\n",
    "                \"Thank you for charging! Master.\"],\n",
    "    'Plug_off':[\"New instructions recieved! Kill all humans! Ah sorry, my fault, you just plugged me of the grid!\",\n",
    "                \"Proposal: try to use my battery charge wisely!\"],\n",
    "    'less_10':[\"Battary charge is lower than ten percent. Charging is heightly adviced\"],\n",
    "\n",
    "    'less_50':[\"Is the glass half full, or half empty?\"]\n",
    "    }"
   ]
  },
  {
   "cell_type": "code",
   "execution_count": 7,
   "metadata": {},
   "outputs": [
    {
     "ename": "NameError",
     "evalue": "name 'random' is not defined",
     "output_type": "error",
     "traceback": [
      "\u001b[0;31m---------------------------------------------------------------------------\u001b[0m",
      "\u001b[0;31mNameError\u001b[0m                                 Traceback (most recent call last)",
      "\u001b[0;32m<ipython-input-7-fdc848337a3e>\u001b[0m in \u001b[0;36m<module>\u001b[0;34m\u001b[0m\n\u001b[1;32m      1\u001b[0m \u001b[0mtopic\u001b[0m \u001b[0;34m=\u001b[0m \u001b[0;34m'Plug_off'\u001b[0m\u001b[0;34m\u001b[0m\u001b[0;34m\u001b[0m\u001b[0m\n\u001b[0;32m----> 2\u001b[0;31m \u001b[0mphrase\u001b[0m \u001b[0;34m=\u001b[0m \u001b[0mrandom\u001b[0m\u001b[0;34m.\u001b[0m\u001b[0mchoice\u001b[0m\u001b[0;34m(\u001b[0m\u001b[0mphrases\u001b[0m\u001b[0;34m[\u001b[0m\u001b[0mtopic\u001b[0m\u001b[0;34m]\u001b[0m\u001b[0;34m)\u001b[0m\u001b[0;34m\u001b[0m\u001b[0;34m\u001b[0m\u001b[0m\n\u001b[0m\u001b[1;32m      3\u001b[0m \u001b[0mprint\u001b[0m\u001b[0;34m(\u001b[0m\u001b[0mphrase\u001b[0m\u001b[0;34m)\u001b[0m\u001b[0;34m\u001b[0m\u001b[0;34m\u001b[0m\u001b[0m\n",
      "\u001b[0;31mNameError\u001b[0m: name 'random' is not defined"
     ]
    }
   ],
   "source": [
    "topic = 'Plug_off'\n",
    "phrase = random.choice(phrases[topic])\n",
    "print(phrase)"
   ]
  },
  {
   "cell_type": "code",
   "execution_count": 34,
   "metadata": {},
   "outputs": [
    {
     "data": {
      "text/plain": [
       "True"
      ]
     },
     "execution_count": 34,
     "metadata": {},
     "output_type": "execute_result"
    }
   ],
   "source": [
    "import psutil    \n",
    "\"Discord\" in (p.name() for p in psutil.process_iter())"
   ]
  },
  {
   "cell_type": "code",
   "execution_count": 47,
   "metadata": {},
   "outputs": [
    {
     "name": "stdout",
     "output_type": "stream",
     "text": [
      "1060\n"
     ]
    }
   ],
   "source": [
    "import random\n",
    "delay = (800,1200)\n",
    "num1 = random.randint(*delay)\n",
    "print(num1)"
   ]
  },
  {
   "cell_type": "code",
   "execution_count": 15,
   "metadata": {},
   "outputs": [
    {
     "name": "stdout",
     "output_type": "stream",
     "text": [
      "thread 2 working for: 0.0008159840072039515 \n",
      "thread next working for: 0.0012520099990069866 \n",
      "thread 2 working for: 1.002426385995932 \n",
      "thread next working for: 1.0031767269974807 \n",
      "thread 2 finished\n",
      "thread next working for: 2.006086826993851 \n",
      "thread next working for: 3.0075266439962434 \n",
      "thread next working for: 4.00847490299202 \n",
      "thread next working for: 5.009711935999803 \n",
      "thread next working for: 6.010833487991476 \n",
      "thread next working for: 7.011398239992559 \n",
      "thread next working for: 8.012585723990924 \n",
      "thread next working for: 9.013790618002531 \n",
      "thread next finished\n",
      "Exiting Main Thread\n"
     ]
    }
   ],
   "source": [
    "import time\n",
    "import threading\n",
    "import psutil\n",
    "battery = psutil.sensors_battery()\n",
    "\n",
    "class Action(threading.Thread):\n",
    "    def __init__(self,n,name = \"Default\", bat=None):\n",
    "        threading.Thread.__init__(self)\n",
    "        self.start_time = time.perf_counter()\n",
    "        self.name = name\n",
    "        self.n = n\n",
    "    def run(self):\n",
    "        while(time.perf_counter() - self.start_time < self.n):\n",
    "            print(f\"thread {self.name} working for: {time.perf_counter() - self.start_time} \")\n",
    "            time.sleep(1)\n",
    "        print(f\"thread {self.name} finished\")\n",
    "mythreads = []            \n",
    "mythreads.append(Action(2,name = \"2\"))\n",
    "mythreads.append(Action(10,name = \"next\"))\n",
    "\n",
    "for t in mythreads:\n",
    "    t.start()\n",
    "\n",
    "for t in mythreads:\n",
    "    t.join()\n",
    "print (\"Exiting Main Thread\")"
   ]
  },
  {
   "cell_type": "code",
   "execution_count": null,
   "metadata": {},
   "outputs": [
    {
     "name": "stdout",
     "output_type": "stream",
     "text": [
      "67.99242424242425\n",
      "67.99242424242425\n",
      "67.94507575757575\n"
     ]
    }
   ],
   "source": [
    "import psutil\n",
    "battery = psutil.sensors_battery()\n",
    "\n",
    "type(battery)\n",
    "\n",
    "def get_c(battery):\n",
    "    print(battery.percent)\n",
    "    time.sleep(10)\n",
    "    print(battery.percent)\n",
    "    \n",
    "get_c(psutil.sensors_battery())\n",
    "get_c(psutil.sensors_battery())"
   ]
  },
  {
   "cell_type": "code",
   "execution_count": 24,
   "metadata": {},
   "outputs": [
    {
     "data": {
      "text/plain": [
       "sbattery(percent=68.22916666666667, secsleft=26400, power_plugged=False)"
      ]
     },
     "execution_count": 24,
     "metadata": {},
     "output_type": "execute_result"
    }
   ],
   "source": [
    "psutil.sensors_battery()"
   ]
  },
  {
   "cell_type": "code",
   "execution_count": null,
   "metadata": {},
   "outputs": [],
   "source": []
  }
 ],
 "metadata": {
  "kernelspec": {
   "display_name": "Python 3",
   "language": "python",
   "name": "python3"
  },
  "language_info": {
   "codemirror_mode": {
    "name": "ipython",
    "version": 3
   },
   "file_extension": ".py",
   "mimetype": "text/x-python",
   "name": "python",
   "nbconvert_exporter": "python",
   "pygments_lexer": "ipython3",
   "version": "3.8.5"
  }
 },
 "nbformat": 4,
 "nbformat_minor": 4
}
